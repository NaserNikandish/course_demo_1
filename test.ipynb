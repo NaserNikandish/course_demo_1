{
 "cells": [
  {
   "cell_type": "markdown",
   "id": "1a1d7c08-c899-4b7d-83a0-fe5106bfb063",
   "metadata": {},
   "source": [
    "# sample file"
   ]
  },
  {
   "cell_type": "code",
   "execution_count": 1,
   "id": "33f0c7ee-1781-49b1-a896-bbd070a25f24",
   "metadata": {},
   "outputs": [],
   "source": [
    "import numpy as np\n",
    "x = np.linspace(2,10, 3)"
   ]
  },
  {
   "cell_type": "code",
   "execution_count": 2,
   "id": "7bffd0c9-02bd-4f4b-91e9-e969d6050d2a",
   "metadata": {},
   "outputs": [
    {
     "data": {
      "text/plain": [
       "array([ 2.,  6., 10.])"
      ]
     },
     "execution_count": 2,
     "metadata": {},
     "output_type": "execute_result"
    }
   ],
   "source": [
    "x"
   ]
  },
  {
   "cell_type": "code",
   "execution_count": null,
   "id": "4c73cc5a-2d73-4730-b392-a574ab5ff604",
   "metadata": {},
   "outputs": [],
   "source": []
  }
 ],
 "metadata": {
  "kernelspec": {
   "display_name": "Python 3 (ipykernel)",
   "language": "python",
   "name": "python3"
  },
  "language_info": {
   "codemirror_mode": {
    "name": "ipython",
    "version": 3
   },
   "file_extension": ".py",
   "mimetype": "text/x-python",
   "name": "python",
   "nbconvert_exporter": "python",
   "pygments_lexer": "ipython3",
   "version": "3.12.4"
  }
 },
 "nbformat": 4,
 "nbformat_minor": 5
}
